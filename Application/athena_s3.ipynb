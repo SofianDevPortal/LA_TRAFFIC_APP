{
 "cells": [
  {
   "cell_type": "markdown",
   "metadata": {},
   "source": [
    "# Athena -> S3 data transfer"
   ]
  },
  {
   "cell_type": "code",
   "execution_count": 40,
   "metadata": {},
   "outputs": [],
   "source": [
    "import boto3\n",
    "import pandas as pd\n",
    "import logging.config\n",
    "import time\n",
    "import json"
   ]
  },
  {
   "cell_type": "code",
   "execution_count": 41,
   "metadata": {},
   "outputs": [],
   "source": [
    "with open(r'api_keys.txt', 'r') as f:\n",
    "    data = f.readlines()\n",
    "    AWS_ACCESS_KEY = str(data[0]).strip()\n",
    "    AWS_SECRET_KEY = str(data[1]).strip()\n",
    "    REGION_NAME = str(data[2]).strip()\n",
    "    DATABASE_NAME = str(data[3]).strip()\n",
    "    OUTPUT_LOCATION = str(data[4]).strip()\n",
    "    S3_BUCKET_NAME = str(data[5]).strip()\n",
    "    S3_OUTPUT_DIRECTORY = str(data[6]).strip()\n",
    "\n",
    "athena_client = boto3.client(\n",
    "    \"athena\", \n",
    "    aws_access_key_id=AWS_ACCESS_KEY,\n",
    "    aws_secret_access_key=AWS_SECRET_KEY,\n",
    "    region_name=REGION_NAME\n",
    ")\n",
    "\n",
    "s3_client = boto3.client(\n",
    "    \"s3\",\n",
    "    aws_access_key_id = AWS_ACCESS_KEY,\n",
    "    aws_secret_access_key = AWS_SECRET_KEY,\n",
    "    region_name = REGION_NAME\n",
    ")"
   ]
  },
  {
   "cell_type": "code",
   "execution_count": 95,
   "metadata": {},
   "outputs": [],
   "source": [
    "query_response = dict()\n",
    "\n",
    "def perform_query(sql_statement, data_name):\n",
    "    global query_response\n",
    "    start_time = time.time()\n",
    "    # Initializing Query Execution\n",
    "    response = athena_client.start_query_execution(\n",
    "    QueryString = sql_statement,\n",
    "    QueryExecutionContext = {\"Database\": DATABASE_NAME},\n",
    "    ResultConfiguration = {\n",
    "        \"OutputLocation\": OUTPUT_LOCATION,\n",
    "        \"EncryptionConfiguration\": {\"EncryptionOption\": \"SSE_S3\"},\n",
    "    }\n",
    "    )\n",
    "    query_response.update({data_name: response['QueryExecutionId']})\n",
    "\n",
    "    end_time = time.time()\n",
    "\n",
    "    return f'Total Time taken to run query and write to S3: {end_time - start_time} seconds'\n",
    "\n",
    "def query_results(data_name):\n",
    "    global query_response\n",
    "    # Obtaining query results\n",
    "\n",
    "    s3_client.download_file(\n",
    "        S3_BUCKET_NAME,\n",
    "        f\"{S3_OUTPUT_DIRECTORY}/{query_response[data_name]}.csv\", data_name\n",
    "        )\n",
    "\n",
    "    return pd.read_csv(data_name)"
   ]
  },
  {
   "cell_type": "code",
   "execution_count": 2,
   "metadata": {},
   "outputs": [],
   "source": [
    "# Data 1: traffic volume by label\n",
    "perform_query('''\n",
    "    select predicted_labels, avg(mean_trafficvolume) as \"mean_traffic\" \n",
    "    from data_final \n",
    "    group by predicted_labels \n",
    "    order by predicted_labels asc''', 'traffic_by_label')\n",
    "\n",
    "# Data 2: accident volume by label\n",
    "perform_query('''\n",
    "    select predicted_labels, avg(mean_accidentvolume) as \"mean_accident\" \n",
    "    from data_final \n",
    "    group by predicted_labels \n",
    "    order by predicted_labels asc''', 'accident_by_label')\n",
    "\n",
    "# Data 3: crashrate by label\n",
    "perform_query('''\n",
    "    select predicted_labels, avg(mean_crashrate) as \"mean_cr\" \n",
    "    from data_final \n",
    "    group by predicted_labels \n",
    "    order by predicted_labels asc''', 'crashrate_by_label')\n",
    "\n",
    "# Get the whole data\n",
    "perform_query('''\n",
    "    select accident_address, accident_latitude, accident_longitude, risk_level, day_week, hour, mean_trafficvolume, mean_accidentvolume\n",
    "    from data_final\n",
    "    order by dr_number''', 'all_data')\n",
    "\n",
    "\n",
    "\n",
    "# Lists the table names and their corresponding ids in S3\n",
    "# print(query_response)\n"
   ]
  },
  {
   "cell_type": "code",
   "execution_count": 97,
   "metadata": {},
   "outputs": [],
   "source": [
    "with open('s3_data_locations.json', 'w') as writeFile:\n",
    "    json.dump(query_response, writeFile)"
   ]
  },
  {
   "cell_type": "code",
   "execution_count": 1,
   "metadata": {},
   "outputs": [],
   "source": [
    "with open('s3_data_locations.json', 'r') as readFile:\n",
    "    s = json.load(readFile)\n"
   ]
  },
  {
   "cell_type": "code",
   "execution_count": 167,
   "metadata": {},
   "outputs": [],
   "source": [
    "df = query_results('all_data')"
   ]
  },
  {
   "cell_type": "code",
   "execution_count": 168,
   "metadata": {},
   "outputs": [
    {
     "data": {
      "text/html": [
       "<div>\n",
       "<style scoped>\n",
       "    .dataframe tbody tr th:only-of-type {\n",
       "        vertical-align: middle;\n",
       "    }\n",
       "\n",
       "    .dataframe tbody tr th {\n",
       "        vertical-align: top;\n",
       "    }\n",
       "\n",
       "    .dataframe thead th {\n",
       "        text-align: right;\n",
       "    }\n",
       "</style>\n",
       "<table border=\"1\" class=\"dataframe\">\n",
       "  <thead>\n",
       "    <tr style=\"text-align: right;\">\n",
       "      <th></th>\n",
       "      <th>accident_address</th>\n",
       "      <th>accident_latitude</th>\n",
       "      <th>accident_longitude</th>\n",
       "      <th>risk_level</th>\n",
       "      <th>day_week</th>\n",
       "      <th>hour</th>\n",
       "      <th>mean_trafficvolume</th>\n",
       "      <th>mean_accidentvolume</th>\n",
       "    </tr>\n",
       "  </thead>\n",
       "  <tbody>\n",
       "    <tr>\n",
       "      <th>0</th>\n",
       "      <td>PICO, Los Angeles</td>\n",
       "      <td>34.0395</td>\n",
       "      <td>-118.2656</td>\n",
       "      <td>low</td>\n",
       "      <td>Monday</td>\n",
       "      <td>22</td>\n",
       "      <td>204447.984615</td>\n",
       "      <td>268.707692</td>\n",
       "    </tr>\n",
       "    <tr>\n",
       "      <th>1</th>\n",
       "      <td>1300 N BROADWAY, Los Angeles</td>\n",
       "      <td>34.0695</td>\n",
       "      <td>-118.2324</td>\n",
       "      <td>medium</td>\n",
       "      <td>Wednesday</td>\n",
       "      <td>4</td>\n",
       "      <td>56487.460674</td>\n",
       "      <td>369.303371</td>\n",
       "    </tr>\n",
       "    <tr>\n",
       "      <th>2</th>\n",
       "      <td>PICO, Los Angeles</td>\n",
       "      <td>34.0424</td>\n",
       "      <td>-118.2718</td>\n",
       "      <td>low</td>\n",
       "      <td>Sunday</td>\n",
       "      <td>1</td>\n",
       "      <td>204447.984615</td>\n",
       "      <td>268.707692</td>\n",
       "    </tr>\n",
       "    <tr>\n",
       "      <th>3</th>\n",
       "      <td>FIGUEROA, Los Angeles</td>\n",
       "      <td>34.0344</td>\n",
       "      <td>-118.2714</td>\n",
       "      <td>low</td>\n",
       "      <td>Saturday</td>\n",
       "      <td>20</td>\n",
       "      <td>204447.984615</td>\n",
       "      <td>268.707692</td>\n",
       "    </tr>\n",
       "    <tr>\n",
       "      <th>4</th>\n",
       "      <td>COLLEGE, Los Angeles</td>\n",
       "      <td>34.0637</td>\n",
       "      <td>-118.2361</td>\n",
       "      <td>medium</td>\n",
       "      <td>Saturday</td>\n",
       "      <td>16</td>\n",
       "      <td>56487.460674</td>\n",
       "      <td>369.303371</td>\n",
       "    </tr>\n",
       "  </tbody>\n",
       "</table>\n",
       "</div>"
      ],
      "text/plain": [
       "               accident_address  accident_latitude  accident_longitude  \\\n",
       "0             PICO, Los Angeles            34.0395           -118.2656   \n",
       "1  1300 N BROADWAY, Los Angeles            34.0695           -118.2324   \n",
       "2             PICO, Los Angeles            34.0424           -118.2718   \n",
       "3         FIGUEROA, Los Angeles            34.0344           -118.2714   \n",
       "4          COLLEGE, Los Angeles            34.0637           -118.2361   \n",
       "\n",
       "  risk_level   day_week  hour  mean_trafficvolume  mean_accidentvolume  \n",
       "0        low     Monday    22       204447.984615           268.707692  \n",
       "1     medium  Wednesday     4        56487.460674           369.303371  \n",
       "2        low     Sunday     1       204447.984615           268.707692  \n",
       "3        low   Saturday    20       204447.984615           268.707692  \n",
       "4     medium   Saturday    16        56487.460674           369.303371  "
      ]
     },
     "execution_count": 168,
     "metadata": {},
     "output_type": "execute_result"
    }
   ],
   "source": [
    "df.head()"
   ]
  }
 ],
 "metadata": {
  "interpreter": {
   "hash": "40d3a090f54c6569ab1632332b64b2c03c39dcf918b08424e98f38b5ae0af88f"
  },
  "kernelspec": {
   "display_name": "Python 3.8.3 ('base')",
   "language": "python",
   "name": "python3"
  },
  "language_info": {
   "codemirror_mode": {
    "name": "ipython",
    "version": 3
   },
   "file_extension": ".py",
   "mimetype": "text/x-python",
   "name": "python",
   "nbconvert_exporter": "python",
   "pygments_lexer": "ipython3",
   "version": "3.8.3"
  },
  "orig_nbformat": 4
 },
 "nbformat": 4,
 "nbformat_minor": 2
}
